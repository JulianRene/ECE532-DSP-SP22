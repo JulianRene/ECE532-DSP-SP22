{
 "cells": [
  {
   "cell_type": "markdown",
   "id": "a5816872",
   "metadata": {},
   "source": [
    "EJEMPLO SHUFFLING FFT VECTOR DE L=4"
   ]
  },
  {
   "cell_type": "code",
   "execution_count": 1,
   "id": "5804770f",
   "metadata": {},
   "outputs": [
    {
     "name": "stdout",
     "output_type": "stream",
     "text": [
      "[2, -2, 3, 1]\n"
     ]
    }
   ],
   "source": [
    "#Define Input Variable\n",
    "\n",
    "x = [2,-2,3,1]\n",
    "print(x)"
   ]
  },
  {
   "cell_type": "code",
   "execution_count": 2,
   "id": "e68de627",
   "metadata": {},
   "outputs": [
    {
     "name": "stdout",
     "output_type": "stream",
     "text": [
      "[ 4.+0.j -1.+3.j  6.+0.j -1.-3.j]\n"
     ]
    }
   ],
   "source": [
    "#Import Fourier functions\n",
    "import numpy as np\n",
    "from numpy.fft import fft, ifft\n",
    "\n",
    "X = fft(x)\n",
    "print(X)"
   ]
  },
  {
   "cell_type": "code",
   "execution_count": 78,
   "id": "8f3fd154",
   "metadata": {},
   "outputs": [
    {
     "name": "stdout",
     "output_type": "stream",
     "text": [
      "[2, 3] [-2, 1]\n",
      "Auto method:\n",
      "[2, 3] [-2, 1]\n",
      "Bit reversal method:\n",
      "[2, 3, -2, 1]\n"
     ]
    }
   ],
   "source": [
    "#Get the same result by using shuffling\n",
    "#Conform the new sorted parts a0 = even samples, a1 = odd samples\n",
    "\n",
    "a0 = [x[0],x[2]]\n",
    "a1 = [x[1],x[3]]\n",
    "print(a0,a1)\n",
    "\n",
    "#Automatic vector creation\n",
    "a0=[]\n",
    "a1=[]\n",
    "for a in range(len(x)):\n",
    "    #even samples\n",
    "    if a%2 == 0: \n",
    "        a0.append(x[a])\n",
    "    #Get odd samples\n",
    "    else:\n",
    "        a1.append(x[a])\n",
    "\n",
    "print('Auto method:')\n",
    "print(a0,a1)\n",
    "\n",
    "#Bit reversal way\n",
    "z = BitRev(x)\n",
    "\n",
    "print('Bit reversal method:')\n",
    "print(z)"
   ]
  },
  {
   "cell_type": "code",
   "execution_count": 4,
   "id": "db6ba703",
   "metadata": {},
   "outputs": [
    {
     "name": "stdout",
     "output_type": "stream",
     "text": [
      "[5, -1] [-1, -3]\n"
     ]
    }
   ],
   "source": [
    "#Compute cross added vectors\n",
    "\n",
    "b0 = [a0[0]+a0[1],a0[0]-a0[1]]\n",
    "b1 = [a1[0]+a1[1],a1[0]-a1[1]]\n",
    "print(b0,b1)\n"
   ]
  },
  {
   "cell_type": "code",
   "execution_count": 5,
   "id": "ab3fe278",
   "metadata": {},
   "outputs": [
    {
     "name": "stdout",
     "output_type": "stream",
     "text": [
      "[1, (-0-1j)]\n",
      "[-1.+0.j  0.+3.j]\n"
     ]
    }
   ],
   "source": [
    "#Use thw Wn factor for N = 4\n",
    "\n",
    "Wn = [1,-1j]\n",
    "\n",
    "#multiply by the b1 vector\n",
    "b2 = np.multiply(b1, Wn)\n",
    "print(Wn)\n",
    "print(b2)"
   ]
  },
  {
   "cell_type": "code",
   "execution_count": 7,
   "id": "f577b99b",
   "metadata": {},
   "outputs": [
    {
     "name": "stdout",
     "output_type": "stream",
     "text": [
      "This is the new result:  [(4+0j), (-1+3j), (6+0j), (-1-3j)]\n",
      "This is the pre result:  [ 4.+0.j -1.+3.j  6.+0.j -1.-3.j]\n"
     ]
    }
   ],
   "source": [
    "#Compute last cross addition\n",
    "\n",
    "X1 = [b0[0]+b2[0], b0[1]+b2[1],b0[0]-b2[0], b0[1]-b2[1]]\n",
    "print('This is the new result: ', X1)\n",
    "print('This is the pre result: ', X)"
   ]
  },
  {
   "cell_type": "markdown",
   "id": "0b6bf30e",
   "metadata": {},
   "source": [
    "EJEMPLO SHUFFLING FFT VECTOR DE L=4"
   ]
  },
  {
   "cell_type": "code",
   "execution_count": 73,
   "id": "85568670",
   "metadata": {},
   "outputs": [
    {
     "name": "stdout",
     "output_type": "stream",
     "text": [
      "[ 4.+0.j          5.+2.41421356j -2.+6.j          5.+0.41421356j\n",
      " 12.+0.j          5.-0.41421356j -2.-6.j          5.-2.41421356j]\n"
     ]
    }
   ],
   "source": [
    "X = fft([4,-3,2,0,-1,-2,3,1])\n",
    "print(X)"
   ]
  },
  {
   "cell_type": "code",
   "execution_count": 75,
   "id": "3874cba6",
   "metadata": {},
   "outputs": [
    {
     "data": {
      "text/plain": [
       "[(1+0j),\n",
       " (0.7071067811865476-0.7071067811865476j),\n",
       " (6.123233995736766e-17-1j),\n",
       " (-0.7071067811865475-0.7071067811865476j)]"
      ]
     },
     "execution_count": 75,
     "metadata": {},
     "output_type": "execute_result"
    }
   ],
   "source": [
    "N = len(x)*2\n",
    "WnNCalc(N)"
   ]
  },
  {
   "cell_type": "markdown",
   "id": "6204ff3b",
   "metadata": {},
   "source": [
    "BIT REVERSAL VECTOR SORTER"
   ]
  },
  {
   "cell_type": "code",
   "execution_count": 77,
   "id": "384e1a9e",
   "metadata": {},
   "outputs": [],
   "source": [
    "#Bit reversal way\n",
    "def BitRev(x):\n",
    "    bitSize = int(np.log2(len(x)))\n",
    "    z=[0]*len(x)\n",
    "\n",
    "    for a in range(len(x)):\n",
    "\n",
    "        binary = bin(a)\n",
    "        reverse = binary[-1:1:-1] \n",
    "        reverse = reverse + (bitSize - len(reverse))*'0'\n",
    "\n",
    "        # converts reversed binary string into integer \n",
    "        #print (int(reverse,2)) \n",
    "        #conform vector\n",
    "        z[a] = x[int(reverse,2)]\n",
    "        \n",
    "    return z"
   ]
  },
  {
   "cell_type": "code",
   "execution_count": null,
   "id": "aac4c426",
   "metadata": {},
   "outputs": [],
   "source": []
  },
  {
   "cell_type": "markdown",
   "id": "6c9c67e7",
   "metadata": {},
   "source": [
    "TWIDDLE FACTOR CALCULATOR"
   ]
  },
  {
   "cell_type": "code",
   "execution_count": 61,
   "id": "a57b73c2",
   "metadata": {},
   "outputs": [],
   "source": [
    "def WnNCalc(N):\n",
    "    #Len of vector\n",
    "\n",
    "    #empty WnN vector\n",
    "    WnN = [0]*int(N/2)\n",
    "\n",
    "    #Populate WnN vector\n",
    "    for k in range(int(N/2)):\n",
    "        WnN[k] = np.exp(-1j*np.pi*2*k/N)\n",
    "\n",
    "    #print(WnN)\n",
    "    return WnN"
   ]
  },
  {
   "cell_type": "code",
   "execution_count": 74,
   "id": "fb699d29",
   "metadata": {},
   "outputs": [
    {
     "data": {
      "text/plain": [
       "2.0"
      ]
     },
     "execution_count": 74,
     "metadata": {},
     "output_type": "execute_result"
    }
   ],
   "source": [
    "np.log2(4)"
   ]
  },
  {
   "cell_type": "code",
   "execution_count": null,
   "id": "67c110ca",
   "metadata": {},
   "outputs": [],
   "source": []
  }
 ],
 "metadata": {
  "kernelspec": {
   "display_name": "Python 3 (ipykernel)",
   "language": "python",
   "name": "python3"
  },
  "language_info": {
   "codemirror_mode": {
    "name": "ipython",
    "version": 3
   },
   "file_extension": ".py",
   "mimetype": "text/x-python",
   "name": "python",
   "nbconvert_exporter": "python",
   "pygments_lexer": "ipython3",
   "version": "3.9.7"
  }
 },
 "nbformat": 4,
 "nbformat_minor": 5
}
